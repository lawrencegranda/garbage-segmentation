{
  "cells": [
    {
      "cell_type": "markdown",
      "metadata": {
        "id": "view-in-github",
        "colab_type": "text"
      },
      "source": [
        "<a href=\"https://colab.research.google.com/github/lawrencegranda/garbage_segmentation/blob/main/predictions_and_analysis.ipynb\" target=\"_parent\"><img src=\"https://colab.research.google.com/assets/colab-badge.svg\" alt=\"Open In Colab\"/></a>"
      ]
    },
    {
      "cell_type": "markdown",
      "metadata": {
        "id": "jYysdyb-CaWM"
      },
      "source": [
        "# **Garbage Segmentation Model 005**\n",
        "\n",
        "---\n",
        "\n"
      ]
    },
    {
      "cell_type": "markdown",
      "metadata": {
        "id": "H0tMfX2vR0uD"
      },
      "source": [
        "## Install and import dependencies"
      ]
    },
    {
      "cell_type": "code",
      "source": [
        "from google.colab import drive\n",
        "drive.mount('/content/drive')"
      ],
      "metadata": {
        "id": "g33eC2ptzA3l",
        "colab": {
          "base_uri": "https://localhost:8080/"
        },
        "outputId": "f13da641-9bc6-42a8-8a4b-493ebdc3ae10"
      },
      "execution_count": null,
      "outputs": [
        {
          "output_type": "stream",
          "name": "stdout",
          "text": [
            "Mounted at /content/drive\n"
          ]
        }
      ]
    },
    {
      "cell_type": "code",
      "execution_count": null,
      "metadata": {
        "id": "1UbK0Uq7GWaO"
      },
      "outputs": [],
      "source": [
        "! pip install tensorflow\n",
        "! pip install matplotlib\n",
        "! pip install pandas\n",
        "! pip install patchify\n",
        "! pip install segmentation-models\n",
        "\n",
        "from patchify import patchify, unpatchify\n",
        "\n",
        "import tensorflow as tf\n",
        "from tensorflow.keras.layers import Dense, Dropout, Conv2D, MaxPooling2D, Flatten, InputLayer, Lambda, Conv2DTranspose\n",
        "from tensorflow.keras.layers import Concatenate, UpSampling2D, BatchNormalization, Concatenate, ReLU, Rescaling\n",
        "from tensorflow.keras.callbacks import EarlyStopping, ModelCheckpoint\n",
        "from tensorflow.keras.applications import EfficientNetB0, EfficientNetB1, EfficientNetB2, EfficientNetB3\n",
        "\n",
        "import keras\n",
        "from keras.metrics import MeanIoU\n",
        "\n",
        "import segmentation_models as sm\n",
        "\n",
        "import numpy as np\n",
        "import pandas as pd\n",
        "import random\n",
        "import os\n",
        "import PIL\n",
        "import glob\n",
        "import matplotlib.pyplot as plt\n",
        "import os.path\n",
        "import argparse\n",
        "import json\n",
        "from PIL import Image\n",
        "import requests\n",
        "from io import BytesIO\n",
        "import sys\n",
        "import cv2\n",
        "from skimage import io\n",
        "\n",
        "from matplotlib.path import Path\n",
        "import matplotlib.patches as patches\n",
        "from urllib.request import urlopen\n",
        "import json\n",
        "from time import time\n",
        "import pickle\n",
        "\n",
        "\n",
        "!pip install google-colab\n",
        "from google.colab import output\n",
        "output.clear()"
      ]
    },
    {
      "cell_type": "markdown",
      "metadata": {
        "id": "b6WCDXMwLL-Q"
      },
      "source": [
        "## Hyperparameters"
      ]
    },
    {
      "cell_type": "code",
      "execution_count": null,
      "metadata": {
        "id": "TcOR1wLFiWyV"
      },
      "outputs": [],
      "source": [
        "ORIGINAL_RES = 576\n",
        "RES = ORIGINAL_RES//2\n",
        "\n",
        "BATCH_SIZE = 4\n",
        "SLICES = 3\n",
        "\n",
        "THRESHOLD = 0.9\n",
        "\n",
        "FOLDER_PATH = './drive/MyDrive/ColabNotebooks/GARBAGE_DETECTION/'\n",
        "MODEL_PATH = os.path.join(FOLDER_PATH, 'my_models005')\n",
        "IMGS_FILE = 'imgs.pickle'\n",
        "MODEL_NAME = 'GARBAGE_SEG005'\n",
        "WEIGHTS_PATH = os.path.join(MODEL_PATH, 'weights', 'checkpoint')\n",
        "\n",
        "LEARNING_RATE = 5e-6\n",
        "EPOCHS = 20\n",
        "PATIENCE = 5\n",
        "VERBOSE = 1\n",
        "\n",
        "IMGS_PATH = os.path.join(FOLDER_PATH, IMGS_FILE)"
      ]
    },
    {
      "cell_type": "markdown",
      "metadata": {
        "id": "zwJH4qUAK_ok"
      },
      "source": [
        "## Info"
      ]
    },
    {
      "cell_type": "code",
      "execution_count": null,
      "metadata": {
        "id": "4WAn7jJ2LCQ8"
      },
      "outputs": [],
      "source": [
        "info = {\n",
        "    'batch_size': BATCH_SIZE,\n",
        "    'train': None,\n",
        "    'val': None,\n",
        "    'test': None,\n",
        "    'res': RES,\n",
        "    'image_shape': (RES,RES,3),\n",
        "    'masks_shape': (RES,RES,1),\n",
        "}"
      ]
    },
    {
      "cell_type": "markdown",
      "metadata": {
        "id": "xhk0j_MVqjtz"
      },
      "source": [
        "## Building u-Net model\n"
      ]
    },
    {
      "cell_type": "markdown",
      "metadata": {
        "id": "9iDKBDGvby6w"
      },
      "source": [
        "### Losses + Metrics"
      ]
    },
    {
      "cell_type": "code",
      "execution_count": null,
      "metadata": {
        "id": "5zbL8mqcb2kG"
      },
      "outputs": [],
      "source": [
        "def get_loss(factor=1):\n",
        "    dice_loss = sm.losses.DiceLoss()\n",
        "    focal_loss = sm.losses.CategoricalFocalLoss()\n",
        "    total_loss = dice_loss + (factor * focal_loss)\n",
        "\n",
        "    return total_loss\n",
        "\n",
        "def get_metrics(thr=0.5):\n",
        "    iou = sm.metrics.IOUScore(threshold=thr)\n",
        "    fscore = sm.metrics.FScore(threshold=thr)\n",
        "    metrics = [iou, fscore]\n",
        "\n",
        "    return metrics"
      ]
    },
    {
      "cell_type": "markdown",
      "metadata": {
        "id": "zJOMarUCbuUR"
      },
      "source": [
        "### Architecture"
      ]
    },
    {
      "cell_type": "code",
      "source": [
        "def get_params(model, verbose=1):\n",
        "    trainable = 0\n",
        "    for v in model.trainable_variables:\n",
        "        shape = v.get_shape()\n",
        "        count = 1\n",
        "        for dim in shape:\n",
        "            count *= dim\n",
        "            trainable += count\n",
        "\n",
        "    total = 0\n",
        "    for v in model.variables:\n",
        "        shape = v.get_shape()\n",
        "        count = 1\n",
        "        for dim in shape:\n",
        "            count *= dim\n",
        "            total += count\n",
        "\n",
        "    params = {'trainable': trainable, 'non-trainable': total-trainable, 'total': total}\n",
        "\n",
        "    if verbose > 0:\n",
        "        print(f'Trainable: {params[\"trainable\"]:,}')\n",
        "        print(f'Non-trainable: {params[\"non-trainable\"]:,}')\n",
        "        print(f'Total: {params[\"total\"]:,}')\n",
        "\n",
        "    return {'trainable':trainable, 'non-trainable':total-trainable, 'total':total}"
      ],
      "metadata": {
        "id": "pBpVCp2O7xLU"
      },
      "execution_count": null,
      "outputs": []
    },
    {
      "cell_type": "code",
      "execution_count": null,
      "metadata": {
        "id": "5SJwAJUt720o"
      },
      "outputs": [],
      "source": [
        "def build_unet(input_shape):\n",
        "    FILTERS = 16\n",
        "\n",
        "    def conv_op(input, filters):\n",
        "        conv1 = Conv2D(filters=filters, kernel_size=(3, 3), padding='same')(input)\n",
        "        bn1 = BatchNormalization()(conv1)\n",
        "        act1 = ReLU()(bn1)\n",
        "\n",
        "        conv2 = Conv2D(filters=filters, kernel_size=(3, 3), padding='same')(act1)\n",
        "        bn2 = BatchNormalization()(conv2)\n",
        "        act2 = ReLU()(bn2)\n",
        "        return act2\n",
        "\n",
        "\n",
        "    def decoder(input, skip, filters):\n",
        "        upsample = Conv2DTranspose(filters=filters, kernel_size=(2, 2), strides=(2,2), padding='same')(input)\n",
        "        connect_skip = Concatenate()([upsample, skip])\n",
        "        connect_skip = Dropout(0.4)(connect_skip)   # DROPOUT\n",
        "        dec_conv =  conv_op(connect_skip, filters)\n",
        "        return dec_conv\n",
        "\n",
        "\n",
        "    \"\"\" Input layer \"\"\"\n",
        "    inputs = tf.keras.Input(shape=input_shape, name=\"input\")\n",
        "\n",
        "    \"\"\" Encoder (pre-trained) \"\"\"\n",
        "    encoder = EfficientNetB3(weights='imagenet', include_top=False, input_tensor=inputs)\n",
        "    # do not train pre-trained layers\n",
        "    for layer in encoder.layers:\n",
        "        layer.trainable = False\n",
        "\n",
        "    skip1 = encoder.get_layer('stem_conv_pad').input                    # 288 x 288\n",
        "    skip2 = encoder.get_layer('block2a_expand_activation').output       # 144 x 144\n",
        "    skip3 = encoder.get_layer('block3a_expand_activation').output       # 72 x 72\n",
        "    skip4 = encoder.get_layer('block4a_expand_activation').output       # 36 x 36\n",
        "\n",
        "\n",
        "    \"\"\" Bottleneck \"\"\"\n",
        "    conv_block = encoder.get_layer('block6a_expand_activation').output  # 18 x 18\n",
        "\n",
        "    \"\"\" Decoder \"\"\"\n",
        "    dec1 = decoder(input=conv_block, skip=skip4, filters=FILTERS*8)     # 36 x 36\n",
        "    dec2 = decoder(input=dec1, skip=skip3, filters=FILTERS*4)           # 72 x 72\n",
        "    dec3 = decoder(input=dec2, skip=skip2, filters=FILTERS*2)           # 144 x 144\n",
        "    dec4 = decoder(input=dec3, skip=skip1, filters=FILTERS)             # 288 x 288\n",
        "\n",
        "    output = Conv2D(filters=1, kernel_size=(1, 1), padding='same', activation='sigmoid', name=\"output\")(dec4)\n",
        "\n",
        "\n",
        "    model_title = \"uNet\"\n",
        "    model = tf.keras.Model(inputs, output, name=model_title)\n",
        "\n",
        "    return model"
      ]
    },
    {
      "cell_type": "code",
      "execution_count": null,
      "metadata": {
        "id": "9pBHBMH1x-ZV"
      },
      "outputs": [],
      "source": [
        "def get_model(factor, lr, verbose=0, find=True, load_weights=True, compile=True):\n",
        "    \n",
        "    if find:\n",
        "        try:\n",
        "            model_list = os.listdir(os.path.join(MODEL_PATH, 'models'))\n",
        "            model_list.sort(reverse=True)\n",
        "            model = tf.keras.models.load_model(os.path.join(MODEL_PATH, 'models', model_list[0]), compile=False)\n",
        "            print(\"Model found.\", end=' ')\n",
        "        except (FileNotFoundError, IndexError, OSError):\n",
        "            find = False\n",
        "    \n",
        "    if not find:\n",
        "        model = build_unet(input_shape=info['image_shape'])\n",
        "        print(\"Model created.\", end=' ')\n",
        "        \n",
        "        if load_weights:\n",
        "            try:\n",
        "                model.load_weights(WEIGHTS_PATH)\n",
        "                print(\"Weights found.\", end=' ')\n",
        "            except (FileNotFoundError, IndexError, OSError, tf.errors.NotFoundError):\n",
        "                pass\n",
        "\n",
        "\n",
        "    if compile:\n",
        "        model.compile(optimizer=tf.keras.optimizers.Adam(learning_rate=lr),\n",
        "                    loss=get_loss(factor),\n",
        "                    metrics=get_metrics(thr=THRESHOLD),\n",
        "                    )\n",
        "        print(\"Model compiled.\", end=' ')\n",
        "\n",
        "\n",
        "    print()\n",
        "\n",
        "\n",
        "    if verbose > 0:\n",
        "        _ = get_params(model)\n",
        "\n",
        "    if verbose > 1:\n",
        "        tf.keras.utils.plot_model(model, show_shapes=True, show_layer_activations=True, dpi=60)\n",
        "\n",
        "\n",
        "    return model"
      ]
    },
    {
      "cell_type": "markdown",
      "metadata": {
        "id": "ZBEPLFzBJMDU"
      },
      "source": [
        "## Load dataset"
      ]
    },
    {
      "cell_type": "markdown",
      "metadata": {
        "id": "jB0KU9OEhEsD"
      },
      "source": [
        "### Get from GitHub"
      ]
    },
    {
      "cell_type": "code",
      "execution_count": null,
      "metadata": {
        "id": "WTkpHFm1NS9D"
      },
      "outputs": [],
      "source": [
        "def get_from_github():\n",
        "    ! rm -r ./sample_data/\n",
        "    ! git clone https://github.com/pedropro/TACO.git\n",
        "\n",
        "    dataset_path = './TACO/data/annotations.json'\n",
        "\n",
        "    # Read annotations\n",
        "    with open(dataset_path, 'r') as f:\n",
        "        dataset = json.loads(f.read())\n",
        "\n",
        "    ! rm -r ./TACO\n",
        "    \n",
        "    output.clear()\n",
        "\n",
        "    return dataset"
      ]
    },
    {
      "cell_type": "code",
      "execution_count": null,
      "metadata": {
        "id": "BOQkMuVLT2LX"
      },
      "outputs": [],
      "source": [
        "def get_dataframes(dataset):\n",
        "    cats = pd.DataFrame(dataset['categories'])\n",
        "    cats = cats.rename(columns={\"supercategory\": \"super\"})\n",
        "    cats = cats.set_index(['id'])\n",
        "    cats = cats.sort_values(by=['id', 'super'])\n",
        "\n",
        "    my_cats = ['Aluminium foil', '\tPlastic bag & wrapper', 'Cigarette', 'Unlabled litter',\n",
        "            'Bottle','Bottle cap', 'Can', 'Other plastic','Carton', 'Cup', 'Straw',\n",
        "            'Paper', 'Broken glass', 'Styrofoam piece', 'Plastic container', 'Food waste']\n",
        "    cats[\"used\"] = cats[\"super\"].apply(lambda x: x in my_cats)\n",
        "\n",
        "    mapping = {item: i for i, item in enumerate(cats[\"super\"].unique())}\n",
        "    mapping = {item: i for i, item in enumerate(cats.sort_values(by=['used'], ascending=False)['super'].unique())}\n",
        "    cats[\"super_id\"] = cats[\"super\"].apply(lambda x: mapping[x])\n",
        "\n",
        "\n",
        "    anns = pd.DataFrame(dataset['annotations'])\n",
        "    anns = anns[['image_id', 'category_id', 'segmentation']]\n",
        "    anns = anns.rename(columns={\"image_id\": \"id\", \"category_id\": \"category\", \"segmentation\":\"seg\"})\n",
        "\n",
        "    anns = anns[cats['used'][anns['category']].to_numpy()]\n",
        "    anns['seg'] = anns['seg'].apply(lambda x: [ int(e) for e in x[0] ])\n",
        "\n",
        "    anns['category'] = anns['category'].apply(lambda x: cats['super_id'][x])\n",
        "\n",
        "    anns = anns.sort_values(by=['id', 'category'])\n",
        "    anns = anns.reset_index(drop=True)\n",
        "\n",
        "\n",
        "    imgs = pd.DataFrame(dataset['images'])\n",
        "    imgs = imgs[['id', 'flickr_url', 'width', 'height']]\n",
        "    imgs = imgs.rename(columns={\"flickr_url\": \"url\"})\n",
        "    imgs = imgs.set_index(['id'])\n",
        "    imgs = imgs.sort_values(by=['id'])\n",
        "    imgs = imgs.loc[anns['id'].unique()]    # get only the ones that have any annotations\n",
        "    imgs['cat'] = imgs.apply(lambda x: np.array(anns[anns['id'] == x.name]['category']), axis=1)\n",
        "    imgs['seg'] = imgs.apply(lambda x: np.array(anns[anns['id'] == x.name]['seg']), axis=1)\n",
        "    # imgs = imgs.sample(frac=1)   # shuffle images\n",
        "    imgs = imgs.reset_index(drop=True)\n",
        "\n",
        "    return imgs, cats"
      ]
    },
    {
      "cell_type": "markdown",
      "metadata": {
        "id": "8seuxeqzhCZh"
      },
      "source": [
        "### Load images"
      ]
    },
    {
      "cell_type": "markdown",
      "metadata": {
        "id": "VGFIi6JHlmPd"
      },
      "source": [
        "#### define functions"
      ]
    },
    {
      "cell_type": "markdown",
      "metadata": {
        "id": "SkQUnATEMAAT"
      },
      "source": [
        "##### pickle"
      ]
    },
    {
      "cell_type": "code",
      "execution_count": null,
      "metadata": {
        "id": "Aj6Eq19iIjJJ"
      },
      "outputs": [],
      "source": [
        "import gc\n",
        "\n",
        "def garbage():\n",
        "    gc.collect(generation=0)\n",
        "    gc.collect(generation=1)\n",
        "    gc.collect(generation=2)\n",
        "    return"
      ]
    },
    {
      "cell_type": "code",
      "execution_count": null,
      "metadata": {
        "id": "rjZVfGPYjol1"
      },
      "outputs": [],
      "source": [
        "def pickle_exists(path):\n",
        "    try:\n",
        "        with open(path, 'rb') as input_file:\n",
        "            pickle.load(input_file)\n",
        "        garbage()\n",
        "        return True\n",
        "    except FileNotFoundError:\n",
        "        return False\n",
        "\n",
        "\n",
        "def save_pickle(dataset, path, overwrite=False):\n",
        "    if not overwrite and pickle_exists(path):\n",
        "        raise PermissionError('Not allowed to overwrite file. Must pass \"overwrite=True\".')\n",
        "        return False\n",
        "\n",
        "    with open(path, 'wb') as output_file:\n",
        "        pickle.dump(dataset, output_file)\n",
        "\n",
        "    return True\n",
        "\n",
        "\n",
        "def load_pickle(path):\n",
        "    with open(path, 'rb') as input_file:\n",
        "        dataset = pickle.load(input_file)\n",
        "\n",
        "    return dataset"
      ]
    },
    {
      "cell_type": "markdown",
      "metadata": {
        "id": "zaK0X-9XMC7B"
      },
      "source": [
        "##### images"
      ]
    },
    {
      "cell_type": "code",
      "execution_count": null,
      "metadata": {
        "id": "2Syh49s98ieb"
      },
      "outputs": [],
      "source": [
        "def image_from_url(url):\n",
        "    try:\n",
        "        url = url.numpy().decode(\"utf-8\")\n",
        "    except AttributeError:\n",
        "        url = url\n",
        "\n",
        "    with urlopen(str(url)) as request:\n",
        "        img_array = np.asarray(bytearray(request.read()), dtype=np.uint8)\n",
        "\n",
        "    img = cv2.imdecode(img_array, cv2.IMREAD_COLOR)\n",
        "    img = cv2.resize(img, (ORIGINAL_RES,ORIGINAL_RES))\n",
        "\n",
        "    return cv2.cvtColor(img, cv2.COLOR_BGR2RGB)"
      ]
    },
    {
      "cell_type": "code",
      "execution_count": null,
      "metadata": {
        "id": "rk584y0nMVHF"
      },
      "outputs": [],
      "source": [
        "def process_images(urls):\n",
        "    images = []\n",
        "\n",
        "    start = time()\n",
        "\n",
        "    for i, url in enumerate(urls):\n",
        "        if i%400 == 0 and i!=0:\n",
        "            at = (time()-start)/i\n",
        "            print(f'\\nExpected: {(len(urls)-i)*at/60:.0f}')\n",
        "        if i%20 == 0:\n",
        "            print(i, end=\" \")\n",
        "\n",
        "        images.append(image_from_url(url))\n",
        "\n",
        "    print(f'\\nTime: {(time()-start)/60:.0f}')\n",
        "    output.clear()\n",
        "\n",
        "    return images"
      ]
    },
    {
      "cell_type": "code",
      "execution_count": null,
      "metadata": {
        "id": "lD5FbGv9Crid"
      },
      "outputs": [],
      "source": [
        "def read_image_from_url(url):\n",
        "    return tf.reshape(tf.py_function(image_from_url, [url], tf.uint8), [ORIGINAL_RES, ORIGINAL_RES, 3])"
      ]
    },
    {
      "cell_type": "markdown",
      "metadata": {
        "id": "xXhLYqLXME-3"
      },
      "source": [
        "##### masks"
      ]
    },
    {
      "cell_type": "code",
      "execution_count": null,
      "metadata": {
        "id": "3XxbP3GLyVMn"
      },
      "outputs": [],
      "source": [
        "def get_mask(res, dim, points, category):\n",
        "\n",
        "    xs, ys = zip(*points) #create lists of x and y values\n",
        "    xs = np.array(xs)*(res/dim[0])\n",
        "    ys = np.array(ys)*(res/dim[1])\n",
        "\n",
        "    polygon = np.array(list(zip(xs, ys)), dtype=np.uint16)\n",
        "\n",
        "    patch = patches.PathPatch(Path(polygon))\n",
        "\n",
        "    x, y = np.meshgrid(np.arange(res), np.arange(res))\n",
        "    x, y = x.flatten(), y.flatten()\n",
        "    p = list(zip(x, y))\n",
        "\n",
        "    mask = patch.contains_points(p)\n",
        "    mask = np.array(mask, dtype=bool)\n",
        "    mask = mask.reshape((res,res))\n",
        "\n",
        "    return mask\n",
        "\n",
        "def get_all_masks(im, res):\n",
        "    masks = np.zeros((res, res, 14), dtype=bool)\n",
        "    \n",
        "    cats = im['cat']\n",
        "    seg = im['seg']\n",
        "    for cat, polygon in zip(cats, seg):\n",
        "        points = np.reshape(polygon, (-1,2))\n",
        "        masks[:,:, cat] = np.logical_or(masks[:,:, cat], get_mask(res, (im['width'], im['height']), points, cat))\n",
        "\n",
        "    return np.expand_dims(masks.max(axis=-1), axis=-1)"
      ]
    },
    {
      "cell_type": "code",
      "execution_count": null,
      "metadata": {
        "id": "ahPJCzotQCZ5"
      },
      "outputs": [],
      "source": [
        "def process_masks(dataset):\n",
        "    masks = []\n",
        "\n",
        "    start = time()\n",
        "\n",
        "    i = 0\n",
        "    for _, row in dataset.iterrows():\n",
        "        if i%400 == 0 and i!=0:\n",
        "            at = (time()-start)/i\n",
        "            print(f'\\nExpected: {(len(dataset)-i)*at/60:.0f}')\n",
        "        if i%20 == 0:\n",
        "            print(i, end=\" \")\n",
        "\n",
        "        masks.append(get_all_masks(row, ORIGINAL_RES))\n",
        "        i+=1\n",
        "\n",
        "    print(f'\\nTime: {(time()-start)/60:.0f}')\n",
        "    output.clear()\n",
        "\n",
        "    return masks"
      ]
    },
    {
      "cell_type": "markdown",
      "metadata": {
        "id": "KJPtFHVdqkiL"
      },
      "source": [
        "##### patching"
      ]
    },
    {
      "cell_type": "code",
      "execution_count": null,
      "metadata": {
        "id": "Kvu3vSDFqm4D"
      },
      "outputs": [],
      "source": [
        "def patch_multiple(images, res):\n",
        "    channels = images[0].shape[-1]\n",
        "    imgs = []\n",
        "\n",
        "    for i, im in enumerate(images):\n",
        "        if i%50 == 0:\n",
        "            print(i, end=\" \")\n",
        "\n",
        "        tmpIm = patchify(im, (res,res,channels), res)\n",
        "        imgs.append(tmpIm)\n",
        "\n",
        "    return np.array(imgs, dtype=np.uint8).reshape(-1,res,res,channels)"
      ]
    },
    {
      "cell_type": "code",
      "execution_count": null,
      "metadata": {
        "id": "DwzesDWgHn8-"
      },
      "outputs": [],
      "source": [
        "def patch_image_from_tensor(im, channels):\n",
        "    return tf.py_function(patchify, [im, (RES, RES, channels), RES], tf.uint8)"
      ]
    },
    {
      "cell_type": "markdown",
      "metadata": {
        "id": "h4ph7mj82-yw"
      },
      "source": [
        "##### help functions"
      ]
    },
    {
      "cell_type": "code",
      "execution_count": null,
      "metadata": {
        "id": "FdoYa7Kw3Jfq"
      },
      "outputs": [],
      "source": [
        "def load_all_images(imgs_path, data, piece, slices, patch):\n",
        "\n",
        "    try:\n",
        "        with open(imgs_path, 'rb') as input_file:\n",
        "            images = pickle.load(input_file)\n",
        "\n",
        "        assert np.array(images[0]).shape[-2] == ORIGINAL_RES\n",
        "        print('Images loaded successfully.')\n",
        "\n",
        "    except (FileNotFoundError, AssertionError):\n",
        "        print('Images not found. Creating...')\n",
        "        images = process_images(data['url'])\n",
        "        save_pickle(images, imgs_path, overwrite=True)\n",
        "        print('Images saved and loaded successfully.')\n",
        "\n",
        "    images = images[piece-1::slices]\n",
        "    garbage()\n",
        "\n",
        "    if patch:\n",
        "        print(f'Patching {len(images)} images...')\n",
        "        images = patch_multiple(images, RES)\n",
        "        garbage()\n",
        "\n",
        "    print(f'\\nImages generated successfully. Shape: {images.shape}')\n",
        "\n",
        "    tf.random.set_seed(1)\n",
        "    images = tf.data.Dataset.from_tensor_slices(images).shuffle(len(images), reshuffle_each_iteration=False, seed=1)\n",
        "    garbage()\n",
        "\n",
        "    return images"
      ]
    },
    {
      "cell_type": "code",
      "execution_count": null,
      "metadata": {
        "id": "pNAZ8ZiH3bx6"
      },
      "outputs": [],
      "source": [
        "def load_all_masks(data, piece, slices, patch):\n",
        "    print('Creating masks...')\n",
        "    data = data[piece-1::slices]\n",
        "    masks = process_masks(data)\n",
        "\n",
        "    \n",
        "    garbage()\n",
        "\n",
        "    if patch:\n",
        "        print(f'Patching {len(masks)} masks...')\n",
        "        masks = patch_multiple(masks, RES)\n",
        "        garbage()\n",
        "\n",
        "    print(f'\\nMasks generated successfully. Shape: {masks.shape}')\n",
        "\n",
        "    tf.random.set_seed(1)\n",
        "    masks = tf.data.Dataset.from_tensor_slices(masks).shuffle(len(masks), reshuffle_each_iteration=False, seed=1)\n",
        "    garbage()\n",
        "\n",
        "    return masks"
      ]
    },
    {
      "cell_type": "code",
      "execution_count": null,
      "metadata": {
        "id": "QkT5V3xlrc-Z"
      },
      "outputs": [],
      "source": [
        "def get_data(imgs_path, piece=1, slices=1, patch=True):\n",
        "    assert piece <= slices\n",
        "\n",
        "    data = get_dataframes(get_from_github()) [0]\n",
        "    print(f'{len(data)} images and masks to load.')\n",
        "\n",
        "    images = load_all_images(imgs_path, data, piece, slices, patch)\n",
        "    masks = load_all_masks(data, piece, slices, patch)\n",
        "\n",
        "    assert len(masks) == len(images)\n",
        "    dataset = tf.data.Dataset.zip((images, masks)).cache()\n",
        "\n",
        "    print(f'\\nDataset created successfully. Size: {len(dataset)}')\n",
        "\n",
        "    return dataset"
      ]
    },
    {
      "cell_type": "markdown",
      "metadata": {
        "id": "SodhbR7SngEU"
      },
      "source": [
        "#### Images: Train-Validation-Test Split + Augmentation"
      ]
    },
    {
      "cell_type": "code",
      "execution_count": null,
      "metadata": {
        "id": "RiM56294ZUCu"
      },
      "outputs": [],
      "source": [
        "def augment(imgen, image, masks):\n",
        "    seed = np.random.randint(10000)\n",
        "\n",
        "    return tf.reshape(tf.py_function(imgen.random_transform, [image, seed], tf.float32), [RES, RES, 3]),  tf.reshape(tf.py_function(imgen.random_transform, [masks, seed], tf.float32), [RES, RES, 1])"
      ]
    },
    {
      "cell_type": "code",
      "execution_count": null,
      "metadata": {
        "id": "vdHS_Dt3kiYU"
      },
      "outputs": [],
      "source": [
        "def test_train_split(dataset):\n",
        "    dataset = dataset.map(lambda x, y: (tf.cast(x, tf.float32), tf.cast(y, tf.float32)))\n",
        "\n",
        "    total = len(dataset)\n",
        "\n",
        "    train_size = int(0.7 * total)\n",
        "    val_size = int(0.15 * total)\n",
        "    test_size = total - (train_size + val_size)\n",
        "\n",
        "    train_dataset = dataset.take(train_size)\n",
        "    test_dataset = dataset.skip(train_size)\n",
        "    val_dataset = test_dataset.take(val_size)\n",
        "    test_dataset = test_dataset.skip(val_size)\n",
        "\n",
        "    train_gen = tf.keras.preprocessing.image.ImageDataGenerator(\n",
        "        rotation_range=90,\n",
        "        width_shift_range=0.2,\n",
        "        height_shift_range=0.2,\n",
        "        zoom_range=0.3,\n",
        "        fill_mode='constant',\n",
        "        cval=0,\n",
        "        horizontal_flip=True,\n",
        "        vertical_flip=True,\n",
        "        dtype=tf.float32\n",
        "    )\n",
        "\n",
        "    train_dataset = train_dataset.map(lambda image, masks: augment(train_gen, image, masks)).batch(info['batch_size']).cache().prefetch(buffer_size=tf.data.AUTOTUNE)\n",
        "    val_dataset = val_dataset.batch(info['batch_size']).cache().prefetch(buffer_size=tf.data.AUTOTUNE)\n",
        "    test_dataset = test_dataset.batch(info['batch_size']).cache().prefetch(buffer_size=tf.data.AUTOTUNE)\n",
        "\n",
        "    return train_dataset, val_dataset, test_dataset"
      ]
    },
    {
      "cell_type": "code",
      "source": [
        "def get_split_dataset(piece):\n",
        "    dataset = get_data(imgs_path=IMGS_PATH, piece=piece, slices=SLICES)\n",
        "    train_dataset, val_dataset, test_dataset = test_train_split(dataset)\n",
        "\n",
        "    output.clear()\n",
        "    garbage()\n",
        "\n",
        "    info['train'] = len(train_dataset) * info['batch_size']\n",
        "    info['val'] = len(val_dataset) * info['batch_size']\n",
        "    info['test'] = len(test_dataset) * info['batch_size']\n",
        "\n",
        "    return train_dataset, val_dataset, test_dataset"
      ],
      "metadata": {
        "id": "IngG1zp1rz2c"
      },
      "execution_count": null,
      "outputs": []
    },
    {
      "cell_type": "markdown",
      "metadata": {
        "id": "mzzpJcqVsoH6"
      },
      "source": [
        "## Training + Evaluation Functions"
      ]
    },
    {
      "cell_type": "markdown",
      "metadata": {
        "id": "MP5KMJwm8RCA"
      },
      "source": [
        "### Training Functions"
      ]
    },
    {
      "cell_type": "code",
      "source": [
        "def save_model(model):\n",
        "    time = str(datetime.now())[0:16].replace(' ','_').replace(':','h')\n",
        "    file_path = f'{MODEL_PATH}/models/{MODEL_NAME}_{time}.h5'\n",
        "    \n",
        "    model.save(file_path, overwrite=True)\n",
        "    print(f'\\nModel saved in {file_path}')\n",
        "\n",
        "    return"
      ],
      "metadata": {
        "id": "PM8eb2rGXvAG"
      },
      "execution_count": null,
      "outputs": []
    },
    {
      "cell_type": "code",
      "execution_count": null,
      "metadata": {
        "id": "AuHlxkRi5jjm"
      },
      "outputs": [],
      "source": [
        "class CustomCallback(tf.keras.callbacks.Callback):\n",
        "    def on_train_begin(self, logs=None):\n",
        "        print(\"Starting training \\n\")\n",
        "\n",
        "    def on_train_end(self, logs=None):\n",
        "        keys = list(logs.keys())\n",
        "        print(\"\\n\\nEnd of training\\nThe validation loss is {:.4f}\"\n",
        "        .format(logs[\"val_loss\"]))\n",
        "\n",
        "    def on_epoch_end(self, epoch, logs=None):\n",
        "        if epoch%15==0 and epoch>0:\n",
        "            save_model(self.model)\n",
        "        elif epoch%5==0 and epoch>0:\n",
        "            time = str(datetime.now())[0:16].replace(' ','_').replace(':','h')\n",
        "            self.model.save_weights(MODEL_PATH+'/weights/{}_{}_iter{}{}.ckpt'.format(MODEL_NAME, time, epoch//10, epoch%10))\n",
        "        \n",
        "        if VERBOSE<=0:\n",
        "            if epoch%5 == 0 and epoch>0:\n",
        "                keys = list(logs.keys())\n",
        "                print(\"\\nThe validation loss is {:.4f}\".format(logs[\"val_loss\"]))\n",
        "\n",
        "            print(epoch+1, end=\" \")\n",
        "\n",
        "\n",
        "class CustomCallback(tf.keras.callbacks.Callback):\n",
        "    def on_train_begin(self, logs=None):\n",
        "        print(\"Starting training \\n\")\n",
        "\n",
        "    def on_train_end(self, logs=None):\n",
        "        keys = list(logs.keys())\n",
        "        print(\"\\n\\nEnd of training\\nThe validation loss is {:.4f}\"\n",
        "        .format(logs[\"val_loss\"]))\n",
        "\n",
        "    def on_epoch_end(self, epoch, logs=None):        \n",
        "        if VERBOSE<=0:\n",
        "            if epoch%5 == 0 and epoch>0:\n",
        "                keys = list(logs.keys())\n",
        "                print(\"\\nThe validation loss is {:.4f}\".format(logs[\"val_loss\"]))\n",
        "\n",
        "            print(epoch+1, end=\" \")\n",
        "\n",
        "\n",
        "stopper = EarlyStopping(monitor='val_loss', patience=PATIENCE)\n",
        "checkpointer = ModelCheckpoint(filepath=WEIGHTS_PATH, monitor=\"val_loss\", mode='min', verbose=0, save_best_only=True)"
      ]
    },
    {
      "cell_type": "code",
      "execution_count": null,
      "metadata": {
        "id": "R0kWs1eG2S_h"
      },
      "outputs": [],
      "source": [
        "from datetime import datetime\n",
        "\n",
        "def train(model, train, val):\n",
        "    history = model.fit(\n",
        "        train,\n",
        "        validation_data=val,\n",
        "        epochs=EPOCHS,\n",
        "        verbose=VERBOSE,\n",
        "        callbacks=[stopper, checkpointer, CustomCallback()]\n",
        "        )\n",
        "\n",
        "    # Save the entire model\n",
        "    save_model(model)\n",
        "\n",
        "    return model, history.history"
      ]
    },
    {
      "cell_type": "code",
      "source": [
        "def set_trainable(model, tunning=False, verbose=1):\n",
        "\n",
        "    for layer in model.layers:\n",
        "        layer.trainable = tunning\n",
        "\n",
        "    for layer in model.layers[-37:]:\n",
        "        layer.trainable = not tunning\n",
        "\n",
        "    for layer in model.layers:\n",
        "        if 'batchnormalization' in  str(type(layer)).lower():\n",
        "            layer.trainable = False\n",
        "\n",
        "    if verbose:\n",
        "        get_params(model)\n",
        "\n",
        "    return model"
      ],
      "metadata": {
        "id": "OJHH8reKTLt3"
      },
      "execution_count": null,
      "outputs": []
    },
    {
      "cell_type": "markdown",
      "metadata": {
        "id": "1DTAY6-c7PDc"
      },
      "source": [
        "### Evaluation Functions"
      ]
    },
    {
      "cell_type": "code",
      "execution_count": null,
      "metadata": {
        "id": "_BLsSKQRN2aN"
      },
      "outputs": [],
      "source": [
        "def evaluate(myModel, dataset, channel=1, start=1, threshold=0.5):\n",
        "    dataset = dataset.map(lambda x, y: (tf.cast(x, tf.uint16), tf.cast(y, tf.uint16)))\n",
        "\n",
        "    from tensorflow.python.ops.numpy_ops import np_config\n",
        "    np_config.enable_numpy_behavior()\n",
        "\n",
        "    plt.figure(figsize=(20,6))\n",
        "\n",
        "    iterator = dataset.take(1).as_numpy_iterator().next()\n",
        "    start = start % (BATCH_SIZE - 7)\n",
        "\n",
        "    i = 0\n",
        "    for image, masks, preds in zip(iterator[0], iterator[1], myModel.predict(iterator[0])):\n",
        "        if i >= start+7:\n",
        "            plt.show()\n",
        "            break\n",
        "\n",
        "        elif i >= start:\n",
        "            idx = i-start\n",
        "            plt.subplot(3,7,idx+1)\n",
        "            plt.imshow(image)\n",
        "\n",
        "            plt.subplot(3,7,idx+8)\n",
        "            plt.imshow(masks[:,:,channel])\n",
        "\n",
        "            plt.subplot(3,7,idx+15)\n",
        "            plt.imshow(preds[:,:,channel] > threshold)\n",
        "\n",
        "        i+=1\n",
        "\n",
        "    del iterator, i"
      ]
    },
    {
      "cell_type": "code",
      "execution_count": null,
      "metadata": {
        "id": "S2zUqbDTKAnb"
      },
      "outputs": [],
      "source": [
        "def plotLoss(history):\n",
        "    loss = np.log1p(np.sqrt(history['loss']))\n",
        "    val_loss = np.log1p(history['val_loss'])\n",
        "\n",
        "    plt.figure(figsize=(6, 3))\n",
        "\n",
        "    epochs_range = range(len(loss))\n",
        "    plt.plot(epochs_range, loss, label='Training Loss', c='blue')\n",
        "    plt.plot(epochs_range, val_loss, label='Validation Loss', c='red')\n",
        "\n",
        "    plt.title('Training and Validation Losses')\n",
        "    plt.show()"
      ]
    },
    {
      "cell_type": "markdown",
      "metadata": {
        "id": "DtOebPYSsfrH"
      },
      "source": [
        "## Training"
      ]
    },
    {
      "cell_type": "code",
      "execution_count": null,
      "metadata": {
        "id": "DQc1NhMm2PE3",
        "colab": {
          "base_uri": "https://localhost:8080/"
        },
        "outputId": "93417414-0981-4f7a-9a66-f1cda915cafd"
      },
      "outputs": [
        {
          "output_type": "stream",
          "name": "stdout",
          "text": [
            "Model found. Model compiled. \n",
            "Trainable: 1,348,550\n",
            "Non-trainable: 2,502,079\n",
            "Total: 3,850,629\n"
          ]
        }
      ],
      "source": [
        "myModel = set_trainable(get_model(factor=7, lr=LEARNING_RATE), tunning=False)"
      ]
    },
    {
      "cell_type": "code",
      "source": [
        "from tensorflow.python.ops.numpy_ops import np_config\n",
        "np_config.enable_numpy_behavior()\n",
        "tf.config.run_functions_eagerly(True)\n",
        "\n",
        "for i in range(SLICES):\n",
        "    try:\n",
        "        del train_dataset, val_dataset, test_dataset\n",
        "    except NameError:\n",
        "        pass\n",
        "\n",
        "    train_dataset, val_dataset, test_dataset = get_split_dataset(i+1)\n",
        "\n",
        "    myModel = set_trainable(get_model(factor=7, lr=LEARNING_RATE, find=False, load_weights=True), tunning=False, verbose=0)\n",
        "    myModel, myHistory = train(myModel, train_dataset, val_dataset)\n",
        "    \n",
        "    plotLoss(myHistory)"
      ],
      "metadata": {
        "id": "SaMU93afkUDE",
        "colab": {
          "base_uri": "https://localhost:8080/",
          "height": 663
        },
        "outputId": "804fd69b-b00b-42b3-f82f-f766ba7d2a3d"
      },
      "execution_count": null,
      "outputs": [
        {
          "output_type": "stream",
          "name": "stdout",
          "text": [
            "Model created. Weights found. Model compiled. \n",
            "Starting training \n",
            "\n",
            "Epoch 1/20\n",
            "275/275 [==============================] - 119s 432ms/step - loss: 0.5916 - iou_score: 0.4000 - f1-score: 0.4955 - val_loss: 0.4441 - val_iou_score: 0.5942 - val_f1-score: 0.6925\n",
            "Epoch 2/20\n",
            "138/275 [==============>...............] - ETA: 46s - loss: 0.5680 - iou_score: 0.4381 - f1-score: 0.5315WARNING:tensorflow:Detecting that an object or model or tf.train.Checkpoint is being deleted with unrestored values. See the following logs for the specific values in question. To silence these warnings, use `status.expect_partial()`. See https://www.tensorflow.org/api_docs/python/tf/train/Checkpoint#restorefor details about the status object returned by the restore function.\n",
            "WARNING:tensorflow:Value in checkpoint could not be found in the restored object: (root).keras_api.metrics.0.total\n",
            "WARNING:tensorflow:Value in checkpoint could not be found in the restored object: (root).keras_api.metrics.0.count\n",
            "WARNING:tensorflow:Value in checkpoint could not be found in the restored object: (root).keras_api.metrics.1.total\n",
            "WARNING:tensorflow:Value in checkpoint could not be found in the restored object: (root).keras_api.metrics.1.count\n",
            "WARNING:tensorflow:Value in checkpoint could not be found in the restored object: (root).keras_api.metrics.2.total\n",
            "WARNING:tensorflow:Value in checkpoint could not be found in the restored object: (root).keras_api.metrics.2.count\n",
            "275/275 [==============================] - 103s 373ms/step - loss: 0.5550 - iou_score: 0.4297 - f1-score: 0.5254 - val_loss: 0.4908 - val_iou_score: 0.5559 - val_f1-score: 0.6543\n",
            "Epoch 3/20\n",
            "275/275 [==============================] - 102s 371ms/step - loss: 0.5275 - iou_score: 0.4497 - f1-score: 0.5467 - val_loss: 0.5139 - val_iou_score: 0.5481 - val_f1-score: 0.6466\n",
            "Epoch 4/20\n",
            "275/275 [==============================] - 103s 376ms/step - loss: 0.5076 - iou_score: 0.4641 - f1-score: 0.5627 - val_loss: 0.5235 - val_iou_score: 0.5355 - val_f1-score: 0.6392\n",
            "Epoch 5/20\n",
            "275/275 [==============================] - 104s 378ms/step - loss: 0.4925 - iou_score: 0.4797 - f1-score: 0.5742 - val_loss: 0.6961 - val_iou_score: 0.3998 - val_f1-score: 0.5169\n",
            "Epoch 6/20\n",
            "275/275 [==============================] - 102s 371ms/step - loss: 0.4779 - iou_score: 0.4913 - f1-score: 0.5894 - val_loss: 0.6357 - val_iou_score: 0.4723 - val_f1-score: 0.5777\n",
            "\n",
            "Model saved in ./drive/MyDrive/ColabNotebooks/GARBAGE_DETECTION/my_models005/models/GARBAGE_SEG005_2022-07-11_18h03.h5\n"
          ]
        },
        {
          "output_type": "display_data",
          "data": {
            "text/plain": [
              "<Figure size 432x216 with 1 Axes>"
            ],
            "image/png": "[encoded data removed]"
          },
          "metadata": {
            "needs_background": "light"
          }
        }
      ]
    },
    {
      "cell_type": "code",
      "execution_count": null,
      "metadata": {
        "id": "qaQrLYR0sAW0",
        "colab": {
          "base_uri": "https://localhost:8080/",
          "height": 450
        },
        "outputId": "d097f50e-c509-41b9-dd09-01469eb98663"
      },
      "outputs": [
        {
          "output_type": "stream",
          "name": "stdout",
          "text": [
            "Model created. Weights found. Model compiled. \n"
          ]
        },
        {
          "output_type": "stream",
          "name": "stderr",
          "text": [
            "/usr/local/lib/python3.7/dist-packages/tensorflow/python/data/ops/structured_function.py:265: UserWarning: Even though the `tf.config.experimental_run_functions_eagerly` option is set, this option does not apply to tf.data functions. To force eager execution of tf.data functions, please use `tf.data.experimental.enable_debug_mode()`.\n",
            "  \"Even though the `tf.config.experimental_run_functions_eagerly` \"\n"
          ]
        },
        {
          "output_type": "display_data",
          "data": {
            "text/plain": [
              "<Figure size 1440x432 with 12 Axes>"
            ],
            "image/png": "[encoded data removed]"
          },
          "metadata": {
            "needs_background": "light"
          }
        }
      ],
      "source": [
        "myModel = set_trainable(get_model(factor=7, lr=LEARNING_RATE, find=False, load_weights=True), tunning=False, verbose=0)\n",
        "evaluate(myModel, test_dataset, channel=0, start=0+7*2, threshold=THRESHOLD)"
      ]
    },
    {
      "cell_type": "markdown",
      "source": [
        "## Fine-Tunning"
      ],
      "metadata": {
        "id": "0iB7w72ChW2B"
      }
    },
    {
      "cell_type": "code",
      "source": [
        "myModel = set_trainable(get_model(factor=7, lr=LEARNING_RATE, find=False, load_weights=True), tunning=True)"
      ],
      "metadata": {
        "id": "L7XiDG5qUa3d",
        "colab": {
          "base_uri": "https://localhost:8080/"
        },
        "outputId": "a9491602-c283-41ef-8f2e-fc1c86545a45"
      },
      "execution_count": null,
      "outputs": [
        {
          "output_type": "stream",
          "name": "stdout",
          "text": [
            "Downloading data from https://storage.googleapis.com/keras-applications/efficientnetb3_notop.h5\n",
            "43941888/43941136 [==============================] - 0s 0us/step\n",
            "43950080/43941136 [==============================] - 0s 0us/step\n",
            "Model created. Weights found. Model compiled. \n",
            "Trainable: 2,428,857\n",
            "Non-trainable: 1,421,772\n",
            "Total: 3,850,629\n"
          ]
        }
      ]
    },
    {
      "cell_type": "code",
      "source": [
        "train_dataset, val_dataset, test_dataset = get_split_dataset(1)\n",
        "\n",
        "evals = []\n",
        "\n",
        "for thr in np.arange(start=40, stop=100, step=5):\n",
        "    myModel.compile(metrics=get_metrics(thr=thr/100))\n",
        "    evals.append(myModel.evaluate(val_dataset, return_dict=True, verbose=0))\n",
        "\n",
        "THRESHOLD = pd.DataFrame(evals)['f1-score'].argmax()*0.05+0.5\n",
        "print(f'Threshold updated to {THRESHOLD}')\n",
        "\n",
        "print()\n",
        "\n",
        "_ = myModel.evaluate(test_dataset)"
      ],
      "metadata": {
        "id": "6jKWpVi5h5Md",
        "colab": {
          "base_uri": "https://localhost:8080/"
        },
        "outputId": "50898123-0417-4f61-8c24-bb59fede47c1"
      },
      "execution_count": null,
      "outputs": [
        {
          "output_type": "stream",
          "name": "stdout",
          "text": [
            "Threshold updated to 0.9\n",
            "\n",
            "60/60 [==============================] - 4s 56ms/step - loss: 0.0000e+00 - iou_score: 0.5166 - f1-score: 0.6190\n"
          ]
        }
      ]
    },
    {
      "cell_type": "code",
      "source": [
        "evals = []\n",
        "\n",
        "for thr in np.arange(start=40, stop=100, step=5):\n",
        "    myModel.compile(metrics=get_metrics(thr=thr/100))\n",
        "    evals.append(myModel.evaluate(val_dataset, return_dict=True, verbose=0))\n",
        "\n",
        "THRESHOLD = pd.DataFrame(evals)['f1-score'].argmax()*0.05+0.4\n",
        "print(f'Threshold updated to {THRESHOLD}')\n",
        "\n",
        "print()\n",
        "\n",
        "_ = myModel.evaluate(test_dataset)"
      ],
      "metadata": {
        "id": "8CUbqpVFm5B0",
        "colab": {
          "base_uri": "https://localhost:8080/"
        },
        "outputId": "92ec492e-e280-42ee-a5bf-e26cb9400cdc"
      },
      "execution_count": null,
      "outputs": [
        {
          "output_type": "stream",
          "name": "stdout",
          "text": [
            "Threshold updated to 0.8\n",
            "\n",
            "60/60 [==============================] - 9s 147ms/step - loss: 0.0000e+00 - iou_score: 0.5166 - f1-score: 0.6190\n"
          ]
        }
      ]
    },
    {
      "cell_type": "code",
      "source": [
        "from tensorflow.python.ops.numpy_ops import np_config\n",
        "np_config.enable_numpy_behavior()\n",
        "tf.config.run_functions_eagerly(True)\n",
        "\n",
        "for i in range(SLICES):\n",
        "    try:\n",
        "        del train_dataset, val_dataset, test_dataset\n",
        "    except NameError:\n",
        "        pass\n",
        "\n",
        "    train_dataset, val_dataset, test_dataset = get_split_dataset(i+1)\n",
        "\n",
        "    myModel = set_trainable(get_model(factor=7, lr=LEARNING_RATE, find=False, load_weights=True), tunning=True, verbose=0)\n",
        "    myModel, myHistory = train(myModel, train_dataset, val_dataset)\n",
        "    \n",
        "    plotLoss(myHistory)"
      ],
      "metadata": {
        "id": "qM71fO0X05Qe",
        "colab": {
          "base_uri": "https://localhost:8080/",
          "height": 193
        },
        "outputId": "8a8c410b-3514-4a41-bdda-d9c40841ae7c"
      },
      "execution_count": null,
      "outputs": [
        {
          "output_type": "stream",
          "name": "stdout",
          "text": [
            "Model created. Model compiled. \n",
            "Starting training \n",
            "\n",
            "Epoch 1/20\n",
            "275/275 [==============================] - 119s 430ms/step - loss: 0.9665 - iou_score: 0.0177 - f1-score: 0.0344 - val_loss: 0.9301 - val_iou_score: 3.6759e-04 - val_f1-score: 7.2393e-04\n",
            "Epoch 2/20\n",
            "275/275 [==============================] - 103s 375ms/step - loss: 0.9639 - iou_score: 0.0196 - f1-score: 0.0378 - val_loss: 0.9272 - val_iou_score: 0.0012 - val_f1-score: 0.0022\n",
            "Epoch 3/20\n",
            " 48/275 [====>.........................] - ETA: 1:17 - loss: 0.9706 - iou_score: 0.0185 - f1-score: 0.0359"
          ]
        }
      ]
    },
    {
      "cell_type": "code",
      "execution_count": null,
      "metadata": {
        "id": "jZDZ1F7S05Qf"
      },
      "outputs": [],
      "source": [
        "myModel = set_trainable(get_model(factor=7, lr=LEARNING_RATE, find=False, load_weights=True), tunning=True, verbose=0)\n",
        "evaluate(myModel, test_dataset, channel=0, start=0+7*0, threshold=THRESHOLD)"
      ]
    }
  ],
  "metadata": {
    "colab": {
      "collapsed_sections": [
        "H0tMfX2vR0uD",
        "zwJH4qUAK_ok",
        "xhk0j_MVqjtz",
        "9iDKBDGvby6w",
        "zJOMarUCbuUR",
        "ZBEPLFzBJMDU",
        "jB0KU9OEhEsD",
        "8seuxeqzhCZh",
        "VGFIi6JHlmPd",
        "SkQUnATEMAAT",
        "zaK0X-9XMC7B",
        "xXhLYqLXME-3",
        "KJPtFHVdqkiL",
        "h4ph7mj82-yw",
        "SodhbR7SngEU",
        "mzzpJcqVsoH6",
        "MP5KMJwm8RCA",
        "1DTAY6-c7PDc",
        "MtJ8QPvJKXKP"
      ],
      "provenance": [],
      "include_colab_link": true
    },
    "gpuClass": "standard",
    "kernelspec": {
      "display_name": "Python 3",
      "name": "python3"
    },
    "language_info": {
      "name": "python"
    },
    "accelerator": "GPU"
  },
  "nbformat": 4,
  "nbformat_minor": 0
}